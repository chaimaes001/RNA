{
 "cells": [
  {
   "cell_type": "code",
   "execution_count": null,
   "metadata": {},
   "outputs": [
    {
     "name": "stdout",
     "output_type": "stream",
     "text": [
      "---------------- fonction logique a apprendre par le perceptron monocouche ----------------------\n",
      "ET                    1\n",
      "OU                    2\n",
      "XOR                   3\n",
      "Sortir                0\n",
      "-------------------------------------------------------------------------------------------------\n",
      "choisir la fonction logique : 1\n",
      "apprentissage de la fonction logique ** ET **\n",
      "Entrainement termine\n",
      "** w1 =  1.4\n",
      "** w2 =  0.7\n",
      "** b =  -2.0999999999999996\n",
      "** la fonction a appris dans la  5 eme iterations\n"
     ]
    },
    {
     "data": {
      "image/png": "[encoded data removed]",
      "text/plain": [
       "<Figure size 432x288 with 1 Axes>"
      ]
     },
     "metadata": {
      "needs_background": "light"
     },
     "output_type": "display_data"
    },
    {
     "name": "stdout",
     "output_type": "stream",
     "text": [
      "LES TEST\n",
      "saisie le x1 : 0\n",
      "saisie le x2 : 0\n",
      "le resultat =====> 0\n",
      "tester la fonction o/n : o\n",
      "saisie le x1 : 0\n",
      "saisie le x2 : 1\n",
      "le resultat =====> 0\n",
      "tester la fonction o/n : o\n",
      "saisie le x1 : 1\n",
      "saisie le x2 : 0\n",
      "le resultat =====> 0\n",
      "tester la fonction o/n : o\n",
      "saisie le x1 : 1\n",
      "saisie le x2 : 1\n",
      "le resultat =====> 1\n",
      "tester la fonction o/n : n\n",
      "---------------- fonction logique a apprendre par le perceptron monocouche ----------------------\n",
      "ET                    1\n",
      "OU                    2\n",
      "XOR                   3\n",
      "Sortir                0\n",
      "-------------------------------------------------------------------------------------------------\n",
      "choisir la fonction logique : 2\n",
      "apprentissage de la fonction logique ** OU **\n",
      "Entrainement termine\n",
      "** w1 =  0.7\n",
      "** w2 =  0.7\n",
      "** b =  -0.7\n",
      "** la fonction a appris dans la  3 eme iterations\n"
     ]
    },
    {
     "data": {
      "image/png": "[encoded data removed]",
      "text/plain": [
       "<Figure size 432x288 with 1 Axes>"
      ]
     },
     "metadata": {
      "needs_background": "light"
     },
     "output_type": "display_data"
    },
    {
     "name": "stdout",
     "output_type": "stream",
     "text": [
      "LES TEST\n",
      "saisie le x1 : 0\n",
      "saisie le x2 : 0\n",
      "le resultat =====> 0\n",
      "tester la fonction o/n : o\n",
      "saisie le x1 : 0\n",
      "saisie le x2 : 1\n",
      "le resultat =====> 1\n",
      "tester la fonction o/n : o\n",
      "saisie le x1 : 1\n",
      "saisie le x2 : 0\n",
      "le resultat =====> 1\n",
      "tester la fonction o/n : o\n",
      "saisie le x1 : 1\n",
      "saisie le x2 : 1\n",
      "le resultat =====> 1\n",
      "tester la fonction o/n : n\n",
      "---------------- fonction logique a apprendre par le perceptron monocouche ----------------------\n",
      "ET                    1\n",
      "OU                    2\n",
      "XOR                   3\n",
      "Sortir                0\n",
      "-------------------------------------------------------------------------------------------------\n",
      "choisir la fonction logique : 3\n",
      "apprentissage de la fonction logique ** XOR **\n",
      "Entrainement termine\n",
      "** w1 =  -0.7\n",
      "** w2 =  0.0\n",
      "** b =  0.0\n",
      "** la fonction a appris dans la  20 eme iterations\n"
     ]
    },
    {
     "data": {
      "image/png": "[encoded data removed]",
      "text/plain": [
       "<Figure size 432x288 with 1 Axes>"
      ]
     },
     "metadata": {
      "needs_background": "light"
     },
     "output_type": "display_data"
    },
    {
     "name": "stdout",
     "output_type": "stream",
     "text": [
      "LES TEST\n"
     ]
    }
   ],
   "source": [
    "# -*- coding: utf-8 -*-\n",
    "\"\"\"\n",
    "Created on Fri Feb 12 11:56:52 2021\n",
    "@author: Chaimae\n",
    "\"\"\"\n",
    "import matplotlib.pyplot as plt\n",
    "# On a definie la la sortie désirée par ET logique\n",
    "def ET(param1,param2):\n",
    "    if param1 == 1 and param2 == 1:\n",
    "        return 1\n",
    "    return 0\n",
    "# On a definie la la sortie désirée par OU logique\n",
    "def OU(param1,param2):\n",
    "    if param1 == 0 and param2 == 0:\n",
    "        return 0\n",
    "    return 1\n",
    "# On a definie la la sortie désirée par XOR logique\n",
    "def XOR(param1,param2):\n",
    "    if param1 == param2:\n",
    "        return 0\n",
    "    return 1\n",
    "# On a definie la fonction d'apprentissage\n",
    "def apprentissage(fl):\n",
    "    w1 = w2 = b = NbrIteration = 0\n",
    "    taux = 0.7\n",
    "    E = []\n",
    "    # Le tableau d'entrée\n",
    "    p = [[0,0],[0,1],[1,0],[1,1]]\n",
    "    # on va répéter les iteration jusqu'a ce que la fonction appris. Dans notre cas le max d'iteration est 20\n",
    "    for k in range(20):\n",
    "        s = 0\n",
    "        # on va calculer les nouvelles valeurs d'entrer w1,w2 pour chaque élément du vecteur p \n",
    "        for i in range(4):\n",
    "            a = w1*p[i][0]+w2*p[i][1]+b\n",
    "            if a < 0:\n",
    "                y = 0\n",
    "            else:\n",
    "                y = 1\n",
    "            # on va definir la valeur de d selon la fonction logique choisie par l'utilisateur\n",
    "            if fl == 1:\n",
    "                d = ET(p[i][0],p[i][1])\n",
    "            elif fl == 2:\n",
    "                d = OU(p[i][0],p[i][1])\n",
    "            elif fl == 3:\n",
    "                d = XOR(p[i][0],p[i][1])\n",
    "            else:\n",
    "                break\n",
    "            e = d-y\n",
    "            w1 = w1 + taux*e*p[i][0]\n",
    "            w2 = w2 + taux*e*p[i][1]\n",
    "            b += taux*e\n",
    "            s += e*e\n",
    "        # Pour chaque iteration on ajoute une nouvelle valeur au vecteur E pour tracer la courbe EQM\n",
    "        E.append(s/2)\n",
    "        # a chaque iteration on verifie la dernier valeur ajouter a E, s'elle est superieur a 0 on va incrementer le nombre\n",
    "        # d'iteration\n",
    "        if E[-1] > 0:\n",
    "            NbrIteration = NbrIteration + 1\n",
    "\n",
    "            \n",
    "    return w1,w2,b,NbrIteration,E\n",
    "# on va tester la fonction\n",
    "while(1):\n",
    "    print(\"---------------- fonction logique a apprendre par le perceptron monocouche ----------------------\")\n",
    "    print(\"ET                    1\")\n",
    "    print(\"OU                    2\")\n",
    "    print(\"XOR                   3\")\n",
    "    print(\"Sortir                0\")\n",
    "    print(\"-------------------------------------------------------------------------------------------------\")\n",
    "    inp = input(\"choisir la fonction logique : \")\n",
    "    inp2 = int(inp)\n",
    "    if inp2 == 1:\n",
    "        print(\"apprentissage de la fonction logique ** ET **\")\n",
    "    elif inp2 == 2:\n",
    "        print(\"apprentissage de la fonction logique ** OU **\")\n",
    "    elif inp2 == 3:\n",
    "        print(\"apprentissage de la fonction logique ** XOR **\")\n",
    "    else:\n",
    "        print(\"merci\")\n",
    "        break\n",
    "    \n",
    "    w1,w2,b,c,E = apprentissage(inp2)\n",
    "    print(\"Entrainement termine\")\n",
    "    print(\"** w1 = \",w1)\n",
    "    print(\"** w2 = \",w2)\n",
    "    print(\"** b = \",b)\n",
    "    print(\"** la fonction a appris dans la \",c,\"eme iterations\")\n",
    "    plt.plot(E)\n",
    "    plt.title(\"la courbe EQM en fonction du NI\")\n",
    "    plt.show()\n",
    "    print(\"LES TEST\")\n",
    "    choix2 = ''\n",
    "    while choix2 != 'n':\n",
    "        inp = input(\"saisie le x1 : \")\n",
    "        x1 = int(inp)\n",
    "        while x1 != 1 and x1 != 0:\n",
    "            inp = input(\"x1 doit etre 0 ou 1. Resaisie le x1 : \")\n",
    "            x1 = int(inp)\n",
    "        inp = input(\"saisie le x2 : \")\n",
    "        x2 = int(inp)\n",
    "        while x2 != 1 and x2 != 0:\n",
    "            inp = input(\"x2 doit etre 0 ou 1. Resaisie le x2 : \")\n",
    "            x2 = int(inp)\n",
    "        if(x1*w1+x2*w2+b < 0):\n",
    "            print(\"le resultat =====> 0\")\n",
    "        else:\n",
    "            print(\"le resultat =====> 1\")\n",
    "        choix2 = input(\"tester la fonction o/n : \")\n",
    "        \n",
    "        \n",
    "    \n",
    "\n",
    "\n",
    "\n"
   ]
  },
  {
   "cell_type": "code",
   "execution_count": null,
   "metadata": {},
   "outputs": [],
   "source": []
  }
 ],
 "metadata": {
  "kernelspec": {
   "display_name": "Python 3",
   "language": "python",
   "name": "python3"
  },
  "language_info": {
   "codemirror_mode": {
    "name": "ipython",
    "version": 3
   },
   "file_extension": ".py",
   "mimetype": "text/x-python",
   "name": "python",
   "nbconvert_exporter": "python",
   "pygments_lexer": "ipython3",
   "version": "3.7.1"
  }
 },
 "nbformat": 4,
 "nbformat_minor": 4
}
