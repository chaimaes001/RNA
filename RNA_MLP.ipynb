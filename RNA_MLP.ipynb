{
 "cells": [
  {
   "cell_type": "code",
   "execution_count": 1,
   "metadata": {},
   "outputs": [
    {
     "name": "stdout",
     "output_type": "stream",
     "text": [
      "perte calculé :  0.010319128139009563\n"
     ]
    },
    {
     "data": {
      "image/png": "[encoded data removed]",
      "text/plain": [
       "<Figure size 432x288 with 1 Axes>"
      ]
     },
     "metadata": {
      "needs_background": "light"
     },
     "output_type": "display_data"
    },
    {
     "name": "stdout",
     "output_type": "stream",
     "text": [
      "le taux de reconnaissance est :  79.54545454545455 %\n"
     ]
    },
    {
     "ename": "SystemExit",
     "evalue": "0",
     "output_type": "error",
     "traceback": [
      "An exception has occurred, use %tb to see the full traceback.\n",
      "\u001b[1;31mSystemExit\u001b[0m\u001b[1;31m:\u001b[0m 0\n"
     ]
    },
    {
     "name": "stderr",
     "output_type": "stream",
     "text": [
      "c:\\python\\lib\\site-packages\\IPython\\core\\interactiveshell.py:3339: UserWarning: To exit: use 'exit', 'quit', or Ctrl-D.\n",
      "  warn(\"To exit: use 'exit', 'quit', or Ctrl-D.\", stacklevel=1)\n"
     ]
    }
   ],
   "source": [
    "# -*- coding: utf-8 -*-\n",
    "\"\"\"\n",
    "Created on Thu Mar 02 20:07:20 2021\n",
    "@author: Chaimae\n",
    "\"\"\"\n",
    "from PyQt5 import QtWidgets, QtCore, QtGui\n",
    "from PyQt5.QtWidgets import QFileDialog\n",
    "import numpy as np\n",
    "from skimage.io import imread\n",
    "from skimage.color import rgb2grey\n",
    "from skimage.filters import threshold_mean\n",
    "from sklearn.neural_network import MLPClassifier\n",
    "import matplotlib.pyplot as plt\n",
    "\n",
    "def apprentissage_des_images():\n",
    "    y = np.array(\n",
    "        [1, 1, 1, 1, 1, 2, 2, 2, 3, 3, 4, 4, 5, 5, 5, 6, 6, 7, 7, 8, 8, 9, 9, 9, 9, 9, 10, 10, 11, 11, 12, 12, 13, 13,\n",
    "         14, 14,\n",
    "         15, 15, 15, 16, 16, 17, 17, 18, 18, 19, 19, 20, 20, 21, 21, 21, 22, 22, 23, 23, 24, 24, 25, 25, 26, 26])\n",
    "    images = []\n",
    "    for i in range(1, 63):\n",
    "        img = \"C:/Users/bens2/Desktop/master/images/apprentissage/\".__add__(i.__str__()).__add__(\".png\")\n",
    "        imageRGB = imread(img)\n",
    "        image = rgb2grey(imageRGB)\n",
    "        thresh = threshold_mean(image)\n",
    "        binary = image > thresh\n",
    "        binary = binary * 1\n",
    "        images.append(np.ravel(binary))\n",
    "    return images, y\n",
    "def taux_reussi():\n",
    "    y = np.array([1,1,2,2,3,3,4,4,5,5,6,6,6,7,8,8,9,9,10,10,11,11,12,12,13,13,14,14,15,15,16,16,17,18,19,19,20,21,21,22,23,24,25,26])\n",
    "    compt = 0\n",
    "    for i in range(1,45):\n",
    "        img = \"C:/Users/bens2/Desktop/master/images/TEST/\".__add__(i.__str__()).__add__(\".png\")\n",
    "        imageTestRGB = imread(img)\n",
    "        imageTest = rgb2grey(imageTestRGB)\n",
    "        thresh = threshold_mean(imageTest)\n",
    "        binaryTest = imageTest > thresh\n",
    "        binaryTest = binaryTest * 1\n",
    "        imageTest = np.ravel(binaryTest)\n",
    "        y_pred = cl.predict([imageTest])\n",
    "        y_pred = np.int(y_pred[0])\n",
    "        if y_pred == y[i-1]:\n",
    "            compt = compt + 1\n",
    "        taux = (compt/44)*100\n",
    "    print(\"le taux de reconnaissance est : \",taux,\"%\")\n",
    "        \n",
    "        \n",
    "class Ui_MainWindow(QtWidgets.QWidget):\n",
    "    def setupUi(self, MainWindow):\n",
    "        MainWindow.setObjectName(\"MainWindow\")\n",
    "        MainWindow.resize(419, 341)\n",
    "        self.centralwidget = QtWidgets.QWidget(MainWindow)\n",
    "        self.centralwidget.setObjectName(\"centralwidget\")\n",
    "        self.label = QtWidgets.QLabel(self.centralwidget)\n",
    "        self.label.setGeometry(QtCore.QRect(110, 10, 261, 21))\n",
    "        font = QtGui.QFont()\n",
    "        font.setPointSize(12)\n",
    "        self.label.setFont(font)\n",
    "        self.label.setObjectName(\"label\")\n",
    "        self.pushButton = QtWidgets.QPushButton(self.centralwidget)\n",
    "        self.pushButton.setGeometry(QtCore.QRect(120, 40, 181, 31))\n",
    "        self.pushButton.setObjectName(\"pushButton\")\n",
    "        self.imageLabel = QtWidgets.QLabel(self.centralwidget)\n",
    "        self.imageLabel.setGeometry(QtCore.QRect(135, 80, 201, 151))\n",
    "        self.imageLabel.setText(\"\")\n",
    "        self.imageLabel.setObjectName(\"imageLabel\")\n",
    "        self.resultLabel = QtWidgets.QLabel(self.centralwidget)\n",
    "        self.resultLabel.setGeometry(QtCore.QRect(100, 250, 221, 21))\n",
    "        self.resultLabel.setText(\"\")\n",
    "        self.resultLabel.setObjectName(\"resultLabel\")\n",
    "        MainWindow.setCentralWidget(self.centralwidget)\n",
    "        self.retranslateUi(MainWindow)\n",
    "        QtCore.QMetaObject.connectSlotsByName(MainWindow)\n",
    "\n",
    "\n",
    "    def retranslateUi(self, MainWindow):\n",
    "        _translate = QtCore.QCoreApplication.translate\n",
    "        MainWindow.setWindowTitle(_translate(\"MainWindow\", \"MainWindow\"))\n",
    "        self.label.setText(_translate(\"MainWindow\", \"Le Classifieur Neuronal PMC\"))\n",
    "        self.pushButton.setText(_translate(\"MainWindow\", \"Choisir une image\"))\n",
    "        self.pushButton.clicked.connect(self.openFile)\n",
    "\n",
    "\n",
    "    def openFile(self):\n",
    "        alphabet = [\"A\", \"B\", \"C\", \"D\", \"E\", \"F\", \"G\", \"H\", \"I\", \"J\", \"K\", \"L\", \"M\", \"N\", \"O\", \"P\", \"Q\", \"R\", \"S\", \"T\",\n",
    "                 \"U\", \"V\", \"W\", \"X\", \"Y\", \"Z\"]\n",
    "        nom_fichier = QFileDialog.getOpenFileName()\n",
    "        self.path = nom_fichier[0]\n",
    "        pathx = self.path\n",
    "\n",
    "        pixmap = QtGui.QPixmap(pathx)\n",
    "        pixmap4 = pixmap.scaled( 151,301, QtCore.Qt.KeepAspectRatio)\n",
    "        self.imageLabel.setPixmap(QtGui.QPixmap(pixmap4))\n",
    "\n",
    "\n",
    "        imageTestRGB = imread(self.path)\n",
    "        imageTest = rgb2grey(imageTestRGB)\n",
    "        thresh = threshold_mean(imageTest)\n",
    "        binaryTest = imageTest > thresh\n",
    "        binaryTest = binaryTest * 1\n",
    "        imageTest = np.ravel(binaryTest)\n",
    "\n",
    "        y_pred = cl.predict([imageTest])\n",
    "        y_pred = np.int(y_pred[0])\n",
    "        self.resultLabel.setText(\"Le caractere que vous avez choisi est : \"+alphabet[y_pred-1])\n",
    "\n",
    "if __name__ == \"__main__\":\n",
    "    import sys\n",
    "\n",
    "    x, y = apprentissage_des_images()\n",
    "    cl = MLPClassifier(activation=\"relu\", max_iter=1000)\n",
    "    cl.fit(x, y)\n",
    "    print(\"perte calculé : \", cl.loss_)\n",
    "    plt.plot(cl.loss_curve_)\n",
    "    plt.title(\"courbe de la perte\")\n",
    "    plt.show()\n",
    "    taux_reussi()\n",
    "    app = QtWidgets.QApplication(sys.argv)\n",
    "    MainWindow = QtWidgets.QMainWindow()\n",
    "    ui = Ui_MainWindow()\n",
    "    ui.setupUi(MainWindow)\n",
    "    MainWindow.show()\n",
    "    sys.exit(app.exec_())\n",
    "\n"
   ]
  },
  {
   "cell_type": "code",
   "execution_count": null,
   "metadata": {},
   "outputs": [],
   "source": []
  },
  {
   "cell_type": "code",
   "execution_count": null,
   "metadata": {},
   "outputs": [],
   "source": []
  }
 ],
 "metadata": {
  "kernelspec": {
   "display_name": "Python 3",
   "language": "python",
   "name": "python3"
  },
  "language_info": {
   "codemirror_mode": {
    "name": "ipython",
    "version": 3
   },
   "file_extension": ".py",
   "mimetype": "text/x-python",
   "name": "python",
   "nbconvert_exporter": "python",
   "pygments_lexer": "ipython3",
   "version": "3.7.1"
  }
 },
 "nbformat": 4,
 "nbformat_minor": 4
}
