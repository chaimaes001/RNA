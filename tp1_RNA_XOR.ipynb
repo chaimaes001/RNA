{
 "cells": [
  {
   "cell_type": "code",
   "execution_count": 10,
   "metadata": {},
   "outputs": [
    {
     "name": "stdout",
     "output_type": "stream",
     "text": [
      "Entrainement termine\n"
     ]
    },
    {
     "data": {
      "image/png": "[encoded data removed]",
      "text/plain": [
       "<Figure size 432x288 with 1 Axes>"
      ]
     },
     "metadata": {
      "needs_background": "light"
     },
     "output_type": "display_data"
    },
    {
     "name": "stdout",
     "output_type": "stream",
     "text": [
      "LES TEST\n",
      "saisie le x1 : 0\n",
      "saisie le x2 : 0\n",
      "la solution ==>  [0]\n",
      "tester la fonction o/n : o\n",
      "saisie le x1 : 1\n",
      "saisie le x2 : 0\n",
      "la solution ==>  [1]\n",
      "tester la fonction o/n : o\n",
      "saisie le x1 : 0\n",
      "saisie le x2 : 1\n",
      "la solution ==>  [1]\n",
      "tester la fonction o/n : o\n",
      "saisie le x1 : 1\n",
      "saisie le x2 : 1\n",
      "la solution ==>  [0]\n",
      "tester la fonction o/n : n\n"
     ]
    }
   ],
   "source": [
    "# -*- coding: utf-8 -*-\n",
    "\"\"\"\n",
    "Created on Tue Feb 16 20:07:20 2021\n",
    "@author: Chaimae\n",
    "\"\"\"\n",
    "from sklearn.neural_network import MLPClassifier\n",
    "import matplotlib.pyplot as plt\n",
    "\n",
    "cl=MLPClassifier(activation='relu',max_iter=1000)\n",
    "X = [[0,0],[1,0],[0,1],[1,1]]\n",
    "d = [0,1,1,0]\n",
    "cl.fit(X,d)\n",
    "print(\"Entrainement termine\")\n",
    "plt.plot(cl.loss_curve_)\n",
    "plt.title(\"la courbe EQM du XOR en fonction du NI\")\n",
    "plt.show()\n",
    "\n",
    "print(\"LES TEST\")\n",
    "choix2 = ''\n",
    "while choix2 != 'n':\n",
    "    x = []\n",
    "    inp = input(\"saisie le x1 : \")\n",
    "    x1 = int(inp)\n",
    "    x.append(x1)\n",
    "    inp = input(\"saisie le x2 : \")\n",
    "    x2 = int(inp)\n",
    "    x.append(x2)\n",
    "    print(\"la solution ==> \",cl.predict([x]))\n",
    "    choix2 = input(\"tester la fonction o/n : \")"
   ]
  },
  {
   "cell_type": "code",
   "execution_count": null,
   "metadata": {},
   "outputs": [],
   "source": []
  }
 ],
 "metadata": {
  "kernelspec": {
   "display_name": "Python 3",
   "language": "python",
   "name": "python3"
  },
  "language_info": {
   "codemirror_mode": {
    "name": "ipython",
    "version": 3
   },
   "file_extension": ".py",
   "mimetype": "text/x-python",
   "name": "python",
   "nbconvert_exporter": "python",
   "pygments_lexer": "ipython3",
   "version": "3.7.1"
  }
 },
 "nbformat": 4,
 "nbformat_minor": 4
}
